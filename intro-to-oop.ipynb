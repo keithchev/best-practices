{
 "cells": [
  {
   "cell_type": "markdown",
   "metadata": {},
   "source": [
    "# Intro to OOP"
   ]
  },
  {
   "cell_type": "markdown",
   "metadata": {},
   "source": [
    "### A simple example: manipulating sequences"
   ]
  },
  {
   "cell_type": "code",
   "execution_count": null,
   "metadata": {},
   "outputs": [],
   "source": [
    "seq = 'ATGGTG'"
   ]
  },
  {
   "cell_type": "code",
   "execution_count": null,
   "metadata": {},
   "outputs": [],
   "source": [
    "def calculate_reverse_complement(sequence):\n",
    "    \n",
    "    complements = {\n",
    "        'A': 'T',\n",
    "        'T': 'A',\n",
    "        'C': 'G',\n",
    "        'G': 'C',\n",
    "    }\n",
    "    new_bases = []\n",
    "    for base in sequence:\n",
    "        new_bases.append(complements[base])\n",
    "        \n",
    "    new_sequence = ''.join(new_bases[::-1])\n",
    "    return new_sequence"
   ]
  },
  {
   "cell_type": "code",
   "execution_count": null,
   "metadata": {},
   "outputs": [],
   "source": [
    "calculate_reverse_complement(seq)"
   ]
  },
  {
   "cell_type": "code",
   "execution_count": null,
   "metadata": {},
   "outputs": [],
   "source": [
    "# what if we have an RNA sequence?\n",
    "rna_seq = 'AUGGUG'"
   ]
  },
  {
   "cell_type": "code",
   "execution_count": null,
   "metadata": {},
   "outputs": [],
   "source": [
    "# this won't work\n",
    "calculate_reverse_complement(rna_seq)"
   ]
  },
  {
   "cell_type": "code",
   "execution_count": null,
   "metadata": {},
   "outputs": [],
   "source": [
    "# we would need to do something like this\n",
    "calculate_reverse_complement(rna_seq, kind='RNA')"
   ]
  },
  {
   "cell_type": "markdown",
   "metadata": {},
   "source": [
    "### __Classes__ provides a way to solve this problem by 'grouping' related attributes and methods"
   ]
  },
  {
   "cell_type": "code",
   "execution_count": null,
   "metadata": {},
   "outputs": [],
   "source": [
    "# what if we could do this?\n",
    "seq = make_new_sequence('ATGGTG', kind='DNA')"
   ]
  },
  {
   "cell_type": "code",
   "execution_count": null,
   "metadata": {},
   "outputs": [],
   "source": [
    "# we'd be able to access the sequence itself like this\n",
    "seq.sequence"
   ]
  },
  {
   "cell_type": "code",
   "execution_count": null,
   "metadata": {},
   "outputs": [],
   "source": [
    "# and we could also access the kind of sequence\n",
    "seq.kind"
   ]
  },
  {
   "cell_type": "code",
   "execution_count": null,
   "metadata": {},
   "outputs": [],
   "source": [
    "# and calculate its reverse complement like this\n",
    "seq.calculate_reverse_complement()"
   ]
  },
  {
   "cell_type": "code",
   "execution_count": null,
   "metadata": {},
   "outputs": [],
   "source": [
    "# we could do the same thing for RNA sequences\n",
    "rna_seq = make_new_sequence('AUGGUG', kind='RNA')"
   ]
  },
  {
   "cell_type": "code",
   "execution_count": null,
   "metadata": {},
   "outputs": [],
   "source": [
    "# this would work just the same way, since the rna_seq object 'knows' that it's RNA\n",
    "rna_seq.calculate_reverse_complement()"
   ]
  },
  {
   "cell_type": "markdown",
   "metadata": {},
   "source": [
    "### Defining classes in python"
   ]
  },
  {
   "cell_type": "code",
   "execution_count": null,
   "metadata": {},
   "outputs": [],
   "source": [
    "class Rectangle:\n",
    "    \n",
    "    def __init__(self, width, height):\n",
    "        print('Initializing a new instance of the Rectangle class')\n",
    "        self.width = width\n",
    "        self.height = height\n",
    "        self.some_other_attr = 'hello'\n",
    "    \n",
    "    def calc_area(self):\n",
    "        area = self.height * self.width\n",
    "        print('The area is is %s' % (area))"
   ]
  },
  {
   "cell_type": "code",
   "execution_count": null,
   "metadata": {},
   "outputs": [],
   "source": [
    "# here we create a new instance of the Calculator class\n",
    "rectangle_1 = Rectangle(width=3, height=4)"
   ]
  },
  {
   "cell_type": "code",
   "execution_count": null,
   "metadata": {},
   "outputs": [],
   "source": [
    "rectangle_1.calc_area()"
   ]
  },
  {
   "cell_type": "code",
   "execution_count": null,
   "metadata": {},
   "outputs": [],
   "source": [
    "# the variables x and y are accessible like this:\n",
    "rectangle_1.width"
   ]
  },
  {
   "cell_type": "code",
   "execution_count": null,
   "metadata": {},
   "outputs": [],
   "source": [
    "rectangle_1.calc_area()"
   ]
  },
  {
   "cell_type": "code",
   "execution_count": null,
   "metadata": {},
   "outputs": [],
   "source": [
    "# we can create as many instances of the class as we want, and they will all be independent of one another\n",
    "rectangle_2 = Rectangle(9, 10)"
   ]
  },
  {
   "cell_type": "code",
   "execution_count": null,
   "metadata": {},
   "outputs": [],
   "source": [
    "rectangle_2.calc_area()"
   ]
  },
  {
   "cell_type": "code",
   "execution_count": null,
   "metadata": {},
   "outputs": [],
   "source": [
    "# the first instance we created is still around\n",
    "rectangle_1.calc_area()"
   ]
  },
  {
   "cell_type": "code",
   "execution_count": null,
   "metadata": {},
   "outputs": [],
   "source": [
    "# we could also make a list of many rectangles, each with a different height\n",
    "rects = [Rectangle(1, height) for height in range(10)]"
   ]
  },
  {
   "cell_type": "code",
   "execution_count": null,
   "metadata": {},
   "outputs": [],
   "source": [
    "# and we can calculate the area of each of these rectangles\n",
    "for rect in rects:\n",
    "    print(rect.calc_area())"
   ]
  },
  {
   "cell_type": "markdown",
   "metadata": {},
   "source": [
    "### Defining a `Sequence` class to calculate reverse complements for DNA and RNA"
   ]
  },
  {
   "cell_type": "code",
   "execution_count": null,
   "metadata": {},
   "outputs": [],
   "source": [
    "class Sequence:\n",
    "    \n",
    "    def __init__(self, sequence, kind='DNA'):\n",
    "        \n",
    "        self.kind = kind\n",
    "        self.sequence = sequence\n",
    "        \n",
    "        if kind == 'DNA':\n",
    "            self.complements = {\n",
    "                'A': 'T',\n",
    "                'T': 'A',\n",
    "                'C': 'G',\n",
    "                'G': 'C',\n",
    "            }\n",
    "    \n",
    "        elif kind == 'RNA':\n",
    "            self.complements = {\n",
    "                'A': 'U',\n",
    "                'U': 'A',\n",
    "                'C': 'G',\n",
    "                'G': 'C',\n",
    "            }\n",
    "  \n",
    "    def calculate_reverse_complement(self):\n",
    "        new_bases = []\n",
    "        for base in self.sequence:\n",
    "            new_bases.append(self.complements[base])\n",
    "\n",
    "        new_sequence = ''.join(new_bases[::-1])\n",
    "        return new_sequence"
   ]
  },
  {
   "cell_type": "code",
   "execution_count": null,
   "metadata": {},
   "outputs": [],
   "source": [
    "seq = Sequence('ATGGTG')"
   ]
  },
  {
   "cell_type": "code",
   "execution_count": null,
   "metadata": {},
   "outputs": [],
   "source": [
    "seq.sequence"
   ]
  },
  {
   "cell_type": "code",
   "execution_count": null,
   "metadata": {},
   "outputs": [],
   "source": [
    "seq.calculate_reverse_complement()"
   ]
  },
  {
   "cell_type": "code",
   "execution_count": null,
   "metadata": {},
   "outputs": [],
   "source": [
    "rna_seq = Sequence('AUGGUG', kind='RNA')"
   ]
  },
  {
   "cell_type": "code",
   "execution_count": null,
   "metadata": {},
   "outputs": [],
   "source": [
    "rna_seq.calculate_reverse_complement()"
   ]
  },
  {
   "cell_type": "markdown",
   "metadata": {},
   "source": [
    "### Inheritance\n",
    "\n",
    "This is an elegant way to simplify the definition of related classes. "
   ]
  },
  {
   "cell_type": "code",
   "execution_count": null,
   "metadata": {},
   "outputs": [],
   "source": [
    "class Sequence:\n",
    "    \n",
    "    def __init__(self, sequence):\n",
    "        self.sequence = sequence\n",
    "    \n",
    "    def calculate_reverse_complement(self):\n",
    "        new_bases = []\n",
    "        for base in self.sequence:\n",
    "            new_bases.append(self.complements[base])\n",
    "        new_sequence = ''.join(new_bases[::-1])\n",
    "        return new_sequence"
   ]
  },
  {
   "cell_type": "code",
   "execution_count": null,
   "metadata": {},
   "outputs": [],
   "source": [
    "# on its own, this base class won't work\n",
    "seq = Sequence('ATGGTG')\n",
    "seq.calculate_reverse_complement()"
   ]
  },
  {
   "cell_type": "code",
   "execution_count": null,
   "metadata": {},
   "outputs": [],
   "source": [
    "# here, we define two subclasses that inherit from the Sequence base class\n",
    "# and that each define their own version of the dictionary of base complements\n",
    "\n",
    "class DNASequence(Sequence):\n",
    "    \n",
    "    complements = {\n",
    "        'A': 'T',\n",
    "        'T': 'A',\n",
    "        'C': 'G',\n",
    "        'G': 'C',\n",
    "    }\n",
    "\n",
    "    def __init__(self, sequence):\n",
    "        self.sequence = sequence\n",
    "    \n",
    "    def calculate_reverse_complement(self):\n",
    "        new_bases = []\n",
    "        for base in self.sequence:\n",
    "            new_bases.append(self.complements[base])\n",
    "        new_sequence = ''.join(new_bases[::-1])\n",
    "        return new_sequence\n",
    "\n",
    "    \n",
    "class RNASequence(Sequence):\n",
    "    \n",
    "    complements = {\n",
    "        'A': 'U',\n",
    "        'U': 'A',\n",
    "        'C': 'G',\n",
    "        'G': 'C',\n",
    "    }\n",
    "    \n",
    "    def __init__(self, sequence):\n",
    "        self.sequence = sequence\n",
    "    \n",
    "    def calculate_reverse_complement(self):\n",
    "        new_bases = []\n",
    "        for base in self.sequence:\n",
    "            new_bases.append(self.complements[base])\n",
    "        new_sequence = ''.join(new_bases[::-1])\n",
    "        return new_sequence"
   ]
  },
  {
   "cell_type": "code",
   "execution_count": null,
   "metadata": {},
   "outputs": [],
   "source": [
    "# now, we can calculate reverse complements using either the DNA or RNA subclasses\n",
    "seq = DNASequence('ATG')\n",
    "seq.reverse_complement"
   ]
  },
  {
   "cell_type": "code",
   "execution_count": null,
   "metadata": {},
   "outputs": [],
   "source": [
    "seq = RNASequence('AUG')\n",
    "seq.calculate_reverse_complement()"
   ]
  },
  {
   "cell_type": "code",
   "execution_count": null,
   "metadata": {},
   "outputs": [],
   "source": [
    "invalid_seq = RNASequence('ATG')"
   ]
  },
  {
   "cell_type": "code",
   "execution_count": null,
   "metadata": {},
   "outputs": [],
   "source": [
    "# this won't work, because the sequence has a T instead of a U\n",
    "invalid_seq.calculate_reverse_complement()"
   ]
  },
  {
   "cell_type": "markdown",
   "metadata": {},
   "source": [
    "### Functions can manipulate objects"
   ]
  },
  {
   "cell_type": "code",
   "execution_count": null,
   "metadata": {},
   "outputs": [],
   "source": [
    "def concatenate_sequences(seq_a, seq_b):\n",
    "    '''\n",
    "    Join two sequences\n",
    "    '''\n",
    "    new_seq = Sequence(seq_a.sequence + seq_b.sequence)\n",
    "    return new_seq"
   ]
  },
  {
   "cell_type": "code",
   "execution_count": null,
   "metadata": {},
   "outputs": [],
   "source": [
    "seq_a = Sequence('ATG')\n",
    "seq_b = Sequence('GGT')"
   ]
  },
  {
   "cell_type": "code",
   "execution_count": null,
   "metadata": {},
   "outputs": [],
   "source": [
    "seq_ab = concatenate_sequences(seq_a, seq_b)"
   ]
  },
  {
   "cell_type": "code",
   "execution_count": null,
   "metadata": {},
   "outputs": [],
   "source": [
    "seq_ab.sequence"
   ]
  },
  {
   "cell_type": "markdown",
   "metadata": {},
   "source": [
    "### Methods of a class can also manipulate instances or generate new instances of that same class"
   ]
  },
  {
   "cell_type": "code",
   "execution_count": null,
   "metadata": {},
   "outputs": [],
   "source": [
    "class Sequence:\n",
    "    \n",
    "    def __init__(self, sequence):\n",
    "        self.sequence = sequence\n",
    "    \n",
    "    def concatenate(self, other_seq):\n",
    "        return Sequence(self.sequence + other_seq.sequence)"
   ]
  },
  {
   "cell_type": "code",
   "execution_count": null,
   "metadata": {},
   "outputs": [],
   "source": [
    "seq_a = Sequence('ATG')\n",
    "seq_b = Sequence('GGT')\n",
    "seq_ab = seq_a.concatenate(seq_b)"
   ]
  },
  {
   "cell_type": "code",
   "execution_count": null,
   "metadata": {},
   "outputs": [],
   "source": [
    "seq_ab.sequence"
   ]
  },
  {
   "cell_type": "markdown",
   "metadata": {},
   "source": [
    "### Properties allow method to 'look like' attributes"
   ]
  },
  {
   "cell_type": "code",
   "execution_count": null,
   "metadata": {},
   "outputs": [],
   "source": [
    "class Sequence:\n",
    "    \n",
    "    def __init__(self, sequence):\n",
    "        self.sequence = sequence\n",
    "        self.complements = {\n",
    "            'A': 'T',\n",
    "            'T': 'A',\n",
    "            'C': 'G',\n",
    "            'G': 'C',\n",
    "        }\n",
    "    \n",
    "    @property\n",
    "    def reverse_complement(self):\n",
    "        new_bases = []\n",
    "        for base in self.sequence:\n",
    "            new_bases.append(self.complements[base])\n",
    "        new_sequence = ''.join(new_bases[::-1])\n",
    "        return new_sequence"
   ]
  },
  {
   "cell_type": "code",
   "execution_count": null,
   "metadata": {},
   "outputs": [],
   "source": [
    "seq = Sequence('ATGGTG')"
   ]
  },
  {
   "cell_type": "code",
   "execution_count": null,
   "metadata": {},
   "outputs": [],
   "source": [
    "seq.reverse_complement"
   ]
  },
  {
   "cell_type": "code",
   "execution_count": null,
   "metadata": {},
   "outputs": [],
   "source": []
  },
  {
   "cell_type": "code",
   "execution_count": null,
   "metadata": {},
   "outputs": [],
   "source": []
  }
 ],
 "metadata": {
  "kernelspec": {
   "display_name": "Python 3",
   "language": "python",
   "name": "python3"
  },
  "language_info": {
   "codemirror_mode": {
    "name": "ipython",
    "version": 3
   },
   "file_extension": ".py",
   "mimetype": "text/x-python",
   "name": "python",
   "nbconvert_exporter": "python",
   "pygments_lexer": "ipython3",
   "version": "3.7.3"
  }
 },
 "nbformat": 4,
 "nbformat_minor": 2
}
