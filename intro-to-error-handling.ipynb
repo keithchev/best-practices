{
 "cells": [
  {
   "cell_type": "code",
   "execution_count": null,
   "metadata": {},
   "outputs": [],
   "source": [
    "import imageio\n",
    "import pandas as pd"
   ]
  },
  {
   "cell_type": "markdown",
   "metadata": {},
   "source": [
    "## Introduction to error handling"
   ]
  },
  {
   "cell_type": "markdown",
   "metadata": {},
   "source": [
    "Errors in python are called 'exceptions'. When errors occur, we say that the code as 'thrown' or 'raised' an exception. \n",
    "\n",
    "Errors can occur for many reasons, and Python comes with many [built-in exceptions](https://docs.python.org/3/library/exceptions.html) that are specific to different situations. Here are some examples:"
   ]
  },
  {
   "cell_type": "code",
   "execution_count": null,
   "metadata": {},
   "outputs": [],
   "source": [
    "# syntax errors (here, a missing colon)\n",
    "for ind in (1, 2, 3]:\n",
    "    print(ind)"
   ]
  },
  {
   "cell_type": "code",
   "execution_count": null,
   "metadata": {},
   "outputs": [],
   "source": [
    "# referring to a variable that is not defined\n",
    "print(some_variable)"
   ]
  },
  {
   "cell_type": "code",
   "execution_count": null,
   "metadata": {},
   "outputs": [],
   "source": [
    "# adding a string to a number\n",
    "1 + '1'"
   ]
  },
  {
   "cell_type": "code",
   "execution_count": null,
   "metadata": {},
   "outputs": [],
   "source": [
    "# dividing by zero\n",
    "1/0"
   ]
  },
  {
   "cell_type": "code",
   "execution_count": null,
   "metadata": {},
   "outputs": [],
   "source": [
    "# opening a file that doesn't exist\n",
    "open('/some/file.txt')"
   ]
  },
  {
   "cell_type": "code",
   "execution_count": null,
   "metadata": {},
   "outputs": [],
   "source": [
    "# accessing a list element that doesn't exist\n",
    "[1, 2, 3][2]"
   ]
  },
  {
   "cell_type": "code",
   "execution_count": null,
   "metadata": {},
   "outputs": [],
   "source": [
    "# accessing a dictionary item that doesn't exist\n",
    "{'a': 1, 'b': 2}['c']"
   ]
  },
  {
   "cell_type": "markdown",
   "metadata": {},
   "source": [
    "### 'Error handling' means preventing, anticipating, and intercepting errors\n",
    "\n",
    "There are two ways to do this:\n",
    "\n",
    "1) Use Python's syntax for intercepting or 'catching' exceptions. This is called a 'try-except' block (see below).\n",
    "\n",
    "2) Write code to prevent errors from occuring in the first place and/or raise exceptions when necessary."
   ]
  },
  {
   "cell_type": "code",
   "execution_count": null,
   "metadata": {},
   "outputs": [],
   "source": [
    "# here is the syntax of the try-except block\n",
    "\n",
    "try:\n",
    "    # line or block of code that may raise an exception\n",
    "except SomeExceptionType:\n",
    "    # what to do if an exception of the specified type was raised"
   ]
  },
  {
   "cell_type": "markdown",
   "metadata": {},
   "source": [
    "#### A simple example\n",
    "Suppose we want to calculate a rate from a count and a total number, but we don't want to assume that the variables are numbers. We can 'wrap' the line that calculates the ratio and then check for a `TypeError` exception (which is the kind of exception we'd expect if the variables were not numbers). "
   ]
  },
  {
   "cell_type": "code",
   "execution_count": null,
   "metadata": {},
   "outputs": [],
   "source": [
    "def calculate_rate(count, total):\n",
    "    rate = count/total\n",
    "    return rate"
   ]
  },
  {
   "cell_type": "code",
   "execution_count": null,
   "metadata": {},
   "outputs": [],
   "source": [
    "calculate_rate(30, 0)"
   ]
  },
  {
   "cell_type": "code",
   "execution_count": null,
   "metadata": {},
   "outputs": [],
   "source": [
    "def calculate_rate(count, total):\n",
    "    rate = None\n",
    "    try:\n",
    "        rate = count/total\n",
    "    except TypeError as error:\n",
    "        print('Error: count and/or total are not numbers')\n",
    "    except ZeroDivisionError:\n",
    "        print('Error: total cannot be zero')\n",
    "    return rate"
   ]
  },
  {
   "cell_type": "code",
   "execution_count": null,
   "metadata": {},
   "outputs": [],
   "source": [
    "calculate_rate(30, 0)"
   ]
  },
  {
   "cell_type": "code",
   "execution_count": null,
   "metadata": {},
   "outputs": [],
   "source": [
    "# we can also catch *all* errors, regardless of type\n",
    "def calculate_rate(count, total):\n",
    "    rate = None\n",
    "    try:\n",
    "        rate = count/total\n",
    "    except Exception as error:\n",
    "        print('Error calculating the rate: %s' % error)\n",
    "    return rate"
   ]
  },
  {
   "cell_type": "code",
   "execution_count": null,
   "metadata": {},
   "outputs": [],
   "source": [
    "calculate_rate(30, '150')"
   ]
  },
  {
   "cell_type": "markdown",
   "metadata": {},
   "source": [
    "#### The (better) alternative to try-except: preventing and anticipating errors\n",
    "\n",
    "Another, and generally better, approach to error handling is to prevent errors from occuring in the first place by explicitly checking that variable types and values are correct.\n",
    "\n",
    "In this example, this would mean explicitly checking that the `count` and `total` variables are the expected type, and that `total` is not zero (which does not make sense and would yield a division-by-zero error). This kind of validation also has the added benefit of implicitly documenting how the function is intended to behave."
   ]
  },
  {
   "cell_type": "code",
   "execution_count": null,
   "metadata": {},
   "outputs": [],
   "source": [
    "def calculate_rate(count, total):\n",
    "    \n",
    "    if type(count) is not int:\n",
    "        raise TypeError('count must be an integer')\n",
    "\n",
    "    if type(total) is not int:\n",
    "        raise TypeError('total must be an integer')\n",
    "    \n",
    "    if total == 0:\n",
    "        raise ValueError('total cannot be zero')\n",
    "\n",
    "    rate = count/total\n",
    "    return rate"
   ]
  },
  {
   "cell_type": "code",
   "execution_count": null,
   "metadata": {},
   "outputs": [],
   "source": [
    "calculate_rate(30, '')"
   ]
  },
  {
   "cell_type": "markdown",
   "metadata": {},
   "source": [
    "#### Striking a balance between preventing and catching errors\n",
    "\n",
    "Using try-except blocks is much less work than preventing errors, but it is also impossible to anticipate and prevent all possible errors. The right balance is inevitably a matter of judgement and depends on how robust and user-friendly a function needs to be. \n",
    "\n",
    "As a general rule, it's best to include at least some error prevention logic, at least in the form of validating variable types and values, and to rely on try-except only either as last resort to catch random/weird errors that would be hard or impossible to anticipate or when calling external functions in whose behavior you aren't confident.\n",
    "\n",
    "Here is one such example of the latter scenario, using an external function provided by the `imageio` package to save an array as an image. Because it is hard to anticipate how this function will handle different inputs, it is wise to wrap it in a try-except block. "
   ]
  },
  {
   "cell_type": "code",
   "execution_count": null,
   "metadata": {},
   "outputs": [],
   "source": [
    "def save_image(image):\n",
    "    \n",
    "    try:\n",
    "        im = imageio.imsave('tmp.jpg', image)\n",
    "        print('Image saved!')\n",
    "    except Exception as error:\n",
    "        print('An error occured while saving the image: %s' % error)"
   ]
  },
  {
   "cell_type": "code",
   "execution_count": null,
   "metadata": {},
   "outputs": [],
   "source": [
    "# we can save this 2D array without an error\n",
    "image = [\n",
    "    [1, 0, 0],\n",
    "    [0, 3, 0],\n",
    "    [0, 0, 9]\n",
    "]\n",
    "\n",
    "save_image(image)"
   ]
  },
  {
   "cell_type": "code",
   "execution_count": null,
   "metadata": {},
   "outputs": [],
   "source": [
    "# what happens if one element of the array is not numeric?\n",
    "image = [\n",
    "    [1, 0, 0],\n",
    "    [0, 3, 0],\n",
    "    [0, 0, '9']\n",
    "]\n",
    "\n",
    "save_image(image)"
   ]
  },
  {
   "cell_type": "code",
   "execution_count": null,
   "metadata": {},
   "outputs": [],
   "source": [
    "# what happens if we try to save a string?\n",
    "save_image('hello-world')"
   ]
  },
  {
   "cell_type": "markdown",
   "metadata": {},
   "source": [
    "### Error handling (in all its forms) has many benefits\n",
    "\n",
    "- It helps the user to figure out what happened when things go wrong.\n",
    "\n",
    "- It makes your code more robust by allowing it to recover from errors that aren't serious enough to warrant exiting.\n",
    "\n",
    "- It adds a layer of 'safety' when calling external functions whose behavior may not be reliable.\n",
    "\n",
    "- It implicitly documents your code."
   ]
  },
  {
   "cell_type": "code",
   "execution_count": null,
   "metadata": {},
   "outputs": [],
   "source": [
    "# create dummy CSV files\n",
    "df = pd.DataFrame([\n",
    "    ['Plate1', 10],\n",
    "    ['Plate1', 11],\n",
    "    ['Plate2', 12],\n",
    "    ['Plate3', 9],\n",
    "    ['Plate4', 5],\n",
    "])\n",
    "\n",
    "df.columns = ['plate_id', 'num_hits']\n",
    "df.to_csv('data.csv', index=False)\n",
    "\n",
    "df.columns = ['plate_id', 'num_hit']\n",
    "df.to_csv('data-missing-column.csv', index=False)\n",
    "\n",
    "df = pd.DataFrame([\n",
    "    ['Plate1', 10],\n",
    "    ['Plate1', 11],\n",
    "    ['Plate2', 12],\n",
    "    ['Plate3', ],\n",
    "    ['Plate4', 5],\n",
    "])\n",
    "df.columns = ['plate_id', 'num_hits']\n",
    "df.to_csv('data-missing-value.csv', index=False)\n",
    "\n",
    "\n",
    "df = pd.DataFrame([\n",
    "    ['Plate1', 10, True],\n",
    "    ['Plate1', 11],\n",
    "    ['Plate2', 12],\n",
    "    ['Plate3',9],\n",
    "    ['Plate4', 5],\n",
    "])\n",
    "df.columns = ['plate_id', 'num_hits', 'qc_flag']\n",
    "df.to_csv('data-extra-column.csv', index=False)\n",
    "\n",
    "df.columns = ['plate_id', 'num_hit', 'qc_flag']\n",
    "df.to_csv('data-messy.csv', index=False)"
   ]
  },
  {
   "cell_type": "code",
   "execution_count": null,
   "metadata": {},
   "outputs": [],
   "source": [
    "def load_data(filepath):\n",
    "    \n",
    "    # load the data\n",
    "    df = pd.read_csv(filepath)\n",
    "    \n",
    "    # coerce the num_hits column to integers\n",
    "    df['num_hits'] = df.num_hits.astype(int)\n",
    "    \n",
    "    # calculate the success rate \n",
    "    num_wells = 96\n",
    "    df['success_rate'] = df['num_hits']/num_wells\n",
    "    \n",
    "    return df"
   ]
  },
  {
   "cell_type": "code",
   "execution_count": null,
   "metadata": {},
   "outputs": [],
   "source": [
    "load_data('data-missing-value.csv')"
   ]
  },
  {
   "cell_type": "code",
   "execution_count": null,
   "metadata": {},
   "outputs": [],
   "source": [
    "def load_data_safer(filepath):\n",
    "    \n",
    "    # try to load the file\n",
    "    try:\n",
    "        df = pd.read_csv(filepath)\n",
    "    except FileNotFoundError as err:\n",
    "        print('File %s does not exist' % filepath)\n",
    "        return\n",
    "\n",
    "    # try to parse the num_hits column,\n",
    "    # and return the raw dataframe if it cannot be parsed\n",
    "    try:\n",
    "        df['num_hits'] = df.num_hits.astype(int)\n",
    "    except ValueError:\n",
    "        print('Warning: could not convert num_hits column to an integer')\n",
    "        return df\n",
    "    \n",
    "    # if the column was parsed, calculate the success rate\n",
    "    num_wells = 96\n",
    "    df['success_rate'] = df['num_hits']/num_wells\n",
    "    return df    "
   ]
  },
  {
   "cell_type": "code",
   "execution_count": null,
   "metadata": {},
   "outputs": [],
   "source": [
    "load_data_safer('data-missing-column.csv')"
   ]
  },
  {
   "cell_type": "markdown",
   "metadata": {},
   "source": [
    "### Combining try-except blocks, data validation, and error raising"
   ]
  },
  {
   "cell_type": "code",
   "execution_count": null,
   "metadata": {},
   "outputs": [],
   "source": [
    "def load_data_even_safer(filepath):\n",
    "    \n",
    "    try:\n",
    "        df = pd.read_csv(filepath)\n",
    "    except FileNotFoundError as err:\n",
    "        print('File %s does not exist' % filepath)\n",
    "        return\n",
    "\n",
    "    # check for missing and unexpected columns by defining a list of required/expected columns\n",
    "    required_columns = ['plate_id', 'num_hit']\n",
    "    missing_columns = set(required_columns).difference(df.columns)\n",
    "    unexpected_columns = set(df.columns).difference(required_columns)\n",
    "    \n",
    "    # missing required columns are likely to cause errors when parsing or processing the data, \n",
    "    # so it makes sense to raise an error here\n",
    "    if missing_columns:\n",
    "        raise ValueError('Required columns %s not found' % missing_columns)\n",
    "    \n",
    "    # unexpected columns, however, are unlikely to cause errors later,\n",
    "    # but still may indicate something is wrong, so it is a good idea to warn the user\n",
    "    if unexpected_columns:\n",
    "        print('Warning: unexpected columns %s found' % unexpected_columns)\n",
    "    \n",
    "    # note that if execution reaches this line, we know that num_targets column exists,\n",
    "    # so we can assume that we only need to catch a ValueError (and not an AttributeError)\n",
    "    try:\n",
    "        df['num_hit'] = df.num_hit.astype(int)\n",
    "    except ValueError:\n",
    "        print('Warning: could not convert num_hits column to an integer')\n",
    "        return df\n",
    "    \n",
    "    num_wells = 96\n",
    "    df['success_rate'] = df['num_hit']/num_wells\n",
    "    return df   "
   ]
  },
  {
   "cell_type": "code",
   "execution_count": null,
   "metadata": {},
   "outputs": [],
   "source": [
    "load_data_even_safer('data-messy.csv')"
   ]
  },
  {
   "cell_type": "markdown",
   "metadata": {},
   "source": [
    "### Next topic: SQL\n",
    "\n",
    "Suppose we want to know the number of plates with at least 10 hits."
   ]
  },
  {
   "cell_type": "code",
   "execution_count": null,
   "metadata": {},
   "outputs": [],
   "source": [
    "df"
   ]
  },
  {
   "cell_type": "code",
   "execution_count": null,
   "metadata": {},
   "outputs": [],
   "source": [
    "# this is how we would answer this question\n",
    "count = 0\n",
    "for ind, row in df.iterrows():\n",
    "    if row.plate_id != 'Plate4' and row.num_hit >= 10:\n",
    "        count = count + 1\n",
    "count"
   ]
  },
  {
   "cell_type": "raw",
   "metadata": {},
   "source": [
    "# but what if we could do this?\n",
    "select count(plate_id) in data where plate_id is not 'Plate4' and num_hits >= 10"
   ]
  }
 ],
 "metadata": {
  "kernelspec": {
   "display_name": "sklearnenv",
   "language": "python",
   "name": "sklearnenv"
  },
  "language_info": {
   "codemirror_mode": {
    "name": "ipython",
    "version": 3
   },
   "file_extension": ".py",
   "mimetype": "text/x-python",
   "name": "python",
   "nbconvert_exporter": "python",
   "pygments_lexer": "ipython3",
   "version": "3.7.3"
  }
 },
 "nbformat": 4,
 "nbformat_minor": 2
}
